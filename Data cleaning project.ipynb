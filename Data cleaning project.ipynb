{
 "cells": [
  {
   "cell_type": "markdown",
   "metadata": {},
   "source": [
    "# Preparing The Environment\n",
    "Importing necessary libraries"
   ]
  },
  {
   "cell_type": "code",
   "execution_count": 1,
   "metadata": {},
   "outputs": [],
   "source": [
    "import pandas as pd\n",
    "import numpy as np\n",
    "from datetime import date, timedelta\n",
    "import re\n",
    "\n",
    "import warnings\n",
    "warnings.filterwarnings(\"ignore\")"
   ]
  },
  {
   "cell_type": "markdown",
   "metadata": {},
   "source": [
    "# Loading The Data"
   ]
  },
  {
   "cell_type": "code",
   "execution_count": 2,
   "metadata": {},
   "outputs": [],
   "source": [
    "# Reading The target Excel file\n",
    "df = r'My port - sheet location - Copy\\MyPoert AUG sheet1.xlsx'\n",
    "\n",
    "# Save all sheets in the excel book in a dictionary\n",
    "data_frames = {}\n",
    "with pd.ExcelFile(df) as xl:\n",
    "  for sheet_name in xl.sheet_names:\n",
    "    data_frames[sheet_name] = pd.read_excel(xl, sheet_name)"
   ]
  },
  {
   "cell_type": "markdown",
   "metadata": {},
   "source": [
    "# Inspecting the data\n",
    "to get fimiliar with its structure and content"
   ]
  },
  {
   "cell_type": "code",
   "execution_count": 3,
   "metadata": {},
   "outputs": [
    {
     "name": "stdout",
     "output_type": "stream",
     "text": [
      "dict_keys(['Reunion', 'Paramaribo', 'Isle of Man', 'San Marino', 'Majuro', 'Guyana', 'Saint Kitts and Nevis', 'Guernsey', 'Cayman Islands', 'Dominica', 'Fiji', 'Greenland', 'Turks and Caicos Islands'])\n"
     ]
    }
   ],
   "source": [
    "print(data_frames.keys())"
   ]
  },
  {
   "cell_type": "code",
   "execution_count": null,
   "metadata": {},
   "outputs": [],
   "source": [
    "for country in data_frames.keys():\n",
    "  print(data_frames[country].info())"
   ]
  },
  {
   "cell_type": "code",
   "execution_count": 5,
   "metadata": {},
   "outputs": [
    {
     "data": {
      "text/html": [
       "<div>\n",
       "<style scoped>\n",
       "    .dataframe tbody tr th:only-of-type {\n",
       "        vertical-align: middle;\n",
       "    }\n",
       "\n",
       "    .dataframe tbody tr th {\n",
       "        vertical-align: top;\n",
       "    }\n",
       "\n",
       "    .dataframe thead th {\n",
       "        text-align: right;\n",
       "    }\n",
       "</style>\n",
       "<table border=\"1\" class=\"dataframe\">\n",
       "  <thead>\n",
       "    <tr style=\"text-align: right;\">\n",
       "      <th></th>\n",
       "      <th>trip</th>\n",
       "      <th>price offer</th>\n",
       "      <th>Unnamed: 2</th>\n",
       "      <th>Unnamed: 3</th>\n",
       "      <th>Unnamed: 4</th>\n",
       "      <th>Unnamed: 5</th>\n",
       "    </tr>\n",
       "  </thead>\n",
       "  <tbody>\n",
       "    <tr>\n",
       "      <th>0</th>\n",
       "      <td>From Cádiz to Miami Beach</td>\n",
       "      <td>Trip:ONE WAY\\nPrice starts from EUR:  613</td>\n",
       "      <td>NaN</td>\n",
       "      <td>NaN</td>\n",
       "      <td>NaN</td>\n",
       "      <td>\"CLAUSES AND TERMS\"\\n\\nOffer is available for ...</td>\n",
       "    </tr>\n",
       "    <tr>\n",
       "      <th>1</th>\n",
       "      <td>NaN</td>\n",
       "      <td>NaN</td>\n",
       "      <td>NaN</td>\n",
       "      <td>NaN</td>\n",
       "      <td>NaN</td>\n",
       "      <td>NaN</td>\n",
       "    </tr>\n",
       "    <tr>\n",
       "      <th>2</th>\n",
       "      <td>From Berwyn to Miami Beach</td>\n",
       "      <td>Trip: ROUND TRIP\\nPrice starts from  EUR:613</td>\n",
       "      <td>NaN</td>\n",
       "      <td>NaN</td>\n",
       "      <td>NaN</td>\n",
       "      <td>NaN</td>\n",
       "    </tr>\n",
       "    <tr>\n",
       "      <th>3</th>\n",
       "      <td>NaN</td>\n",
       "      <td>NaN</td>\n",
       "      <td>NaN</td>\n",
       "      <td>NaN</td>\n",
       "      <td>NaN</td>\n",
       "      <td>NaN</td>\n",
       "    </tr>\n",
       "    <tr>\n",
       "      <th>4</th>\n",
       "      <td>from  Bilbao  to Miami Beach</td>\n",
       "      <td>Trip:ONE WAY\\nPrice starts from  EUR :613</td>\n",
       "      <td>NaN</td>\n",
       "      <td>NaN</td>\n",
       "      <td>NaN</td>\n",
       "      <td>NaN</td>\n",
       "    </tr>\n",
       "  </tbody>\n",
       "</table>\n",
       "</div>"
      ],
      "text/plain": [
       "                           trip                                  price offer   \\\n",
       "0     From Cádiz to Miami Beach     Trip:ONE WAY\\nPrice starts from EUR:  613   \n",
       "1                           NaN                                           NaN   \n",
       "2    From Berwyn to Miami Beach  Trip: ROUND TRIP\\nPrice starts from  EUR:613   \n",
       "3                           NaN                                           NaN   \n",
       "4  from  Bilbao  to Miami Beach     Trip:ONE WAY\\nPrice starts from  EUR :613   \n",
       "\n",
       "   Unnamed: 2  Unnamed: 3  Unnamed: 4  \\\n",
       "0         NaN         NaN         NaN   \n",
       "1         NaN         NaN         NaN   \n",
       "2         NaN         NaN         NaN   \n",
       "3         NaN         NaN         NaN   \n",
       "4         NaN         NaN         NaN   \n",
       "\n",
       "                                          Unnamed: 5  \n",
       "0  \"CLAUSES AND TERMS\"\\n\\nOffer is available for ...  \n",
       "1                                                NaN  \n",
       "2                                                NaN  \n",
       "3                                                NaN  \n",
       "4                                                NaN  "
      ]
     },
     "execution_count": 5,
     "metadata": {},
     "output_type": "execute_result"
    }
   ],
   "source": [
    "data_frames['Fiji'].head()"
   ]
  },
  {
   "cell_type": "markdown",
   "metadata": {},
   "source": [
    "# Standardizing Dataframes Structure"
   ]
  },
  {
   "cell_type": "code",
   "execution_count": 6,
   "metadata": {},
   "outputs": [],
   "source": [
    "for country in data_frames.keys():\n",
    "\n",
    "# Selecting the first 2 columns\n",
    "  data_frames[country] = data_frames[country].iloc[:, :2]\n",
    "\n",
    "# Standardizing columns names\n",
    "  data_frames[country].columns = ['trip', 'price_offer']\n",
    "\n",
    "# Handling merged cells\n",
    "  data_frames[country]['price_offer2'] = \\\n",
    "      data_frames[country]['price_offer'] \\\n",
    "    + data_frames[country]['price_offer'].shift(-1).replace({None: ''})\n",
    "\n",
    "# Dropping unnecessary rows\n",
    "  data_frames[country] = data_frames[country][data_frames[country]['trip'].notna()]\n",
    "\n",
    "# Reseting index after dropping rows\n",
    "  data_frames[country].reset_index(drop=True, inplace= True)\n",
    "\n",
    "# Distinguishing countries through a country column\n",
    "  data_frames[country]['country'] = country"
   ]
  },
  {
   "cell_type": "markdown",
   "metadata": {},
   "source": [
    "# Concatenating Dataframes\n",
    "without reseting the index to detect errors more efficiently"
   ]
  },
  {
   "cell_type": "code",
   "execution_count": 7,
   "metadata": {},
   "outputs": [
    {
     "data": {
      "text/html": [
       "<div>\n",
       "<style scoped>\n",
       "    .dataframe tbody tr th:only-of-type {\n",
       "        vertical-align: middle;\n",
       "    }\n",
       "\n",
       "    .dataframe tbody tr th {\n",
       "        vertical-align: top;\n",
       "    }\n",
       "\n",
       "    .dataframe thead th {\n",
       "        text-align: right;\n",
       "    }\n",
       "</style>\n",
       "<table border=\"1\" class=\"dataframe\">\n",
       "  <thead>\n",
       "    <tr style=\"text-align: right;\">\n",
       "      <th></th>\n",
       "      <th>trip</th>\n",
       "      <th>price_offer</th>\n",
       "      <th>price_offer2</th>\n",
       "      <th>country</th>\n",
       "    </tr>\n",
       "  </thead>\n",
       "  <tbody>\n",
       "    <tr>\n",
       "      <th>0</th>\n",
       "      <td>FROM Frederikshavn TO Liepaja</td>\n",
       "      <td>Trip: ONE WAY\\nPrice starts from:EUR  3306\\n</td>\n",
       "      <td>Trip: ONE WAY\\nPrice starts from:EUR  3306\\nTr...</td>\n",
       "      <td>Reunion</td>\n",
       "    </tr>\n",
       "    <tr>\n",
       "      <th>1</th>\n",
       "      <td>from Emden TO Fos-sur-Mer</td>\n",
       "      <td>Trip:ONE WAY\\nprice start from :EUR  6363</td>\n",
       "      <td>Trip:ONE WAY\\nprice start from :EUR  6363</td>\n",
       "      <td>Reunion</td>\n",
       "    </tr>\n",
       "    <tr>\n",
       "      <th>2</th>\n",
       "      <td>FROM Zeebrugge  TO Bensersiel</td>\n",
       "      <td>Trip:ONE WAY\\nprice start from :EUR   3666</td>\n",
       "      <td>Trip:ONE WAY\\nprice start from :EUR   3666</td>\n",
       "      <td>Reunion</td>\n",
       "    </tr>\n",
       "    <tr>\n",
       "      <th>3</th>\n",
       "      <td>FROM Emdan TO Sagunto</td>\n",
       "      <td>Trip:ONE WAY\\nprice start from :EUR   6166</td>\n",
       "      <td>Trip:ONE WAY\\nprice start from :EUR   6166</td>\n",
       "      <td>Reunion</td>\n",
       "    </tr>\n",
       "    <tr>\n",
       "      <th>4</th>\n",
       "      <td>FROM Emdan TO Milazzo</td>\n",
       "      <td>Trip:ONE WAY\\nprice start from :EUR   3161</td>\n",
       "      <td>Trip:ONE WAY\\nprice start from :EUR   3161</td>\n",
       "      <td>Reunion</td>\n",
       "    </tr>\n",
       "  </tbody>\n",
       "</table>\n",
       "</div>"
      ],
      "text/plain": [
       "                            trip  \\\n",
       "0  FROM Frederikshavn TO Liepaja   \n",
       "1      from Emden TO Fos-sur-Mer   \n",
       "2  FROM Zeebrugge  TO Bensersiel   \n",
       "3          FROM Emdan TO Sagunto   \n",
       "4          FROM Emdan TO Milazzo   \n",
       "\n",
       "                                    price_offer  \\\n",
       "0  Trip: ONE WAY\\nPrice starts from:EUR  3306\\n   \n",
       "1     Trip:ONE WAY\\nprice start from :EUR  6363   \n",
       "2    Trip:ONE WAY\\nprice start from :EUR   3666   \n",
       "3    Trip:ONE WAY\\nprice start from :EUR   6166   \n",
       "4    Trip:ONE WAY\\nprice start from :EUR   3161   \n",
       "\n",
       "                                        price_offer2  country  \n",
       "0  Trip: ONE WAY\\nPrice starts from:EUR  3306\\nTr...  Reunion  \n",
       "1          Trip:ONE WAY\\nprice start from :EUR  6363  Reunion  \n",
       "2         Trip:ONE WAY\\nprice start from :EUR   3666  Reunion  \n",
       "3         Trip:ONE WAY\\nprice start from :EUR   6166  Reunion  \n",
       "4         Trip:ONE WAY\\nprice start from :EUR   3161  Reunion  "
      ]
     },
     "execution_count": 7,
     "metadata": {},
     "output_type": "execute_result"
    }
   ],
   "source": [
    "semi_raw_df = pd.concat([data_frames[dataframe] for dataframe in data_frames.keys()])\n",
    "semi_raw_df.head()"
   ]
  },
  {
   "cell_type": "code",
   "execution_count": 8,
   "metadata": {},
   "outputs": [
    {
     "name": "stdout",
     "output_type": "stream",
     "text": [
      "<class 'pandas.core.frame.DataFrame'>\n",
      "Index: 180 entries, 0 to 17\n",
      "Data columns (total 4 columns):\n",
      " #   Column        Non-Null Count  Dtype \n",
      "---  ------        --------------  ----- \n",
      " 0   trip          180 non-null    object\n",
      " 1   price_offer   180 non-null    object\n",
      " 2   price_offer2  180 non-null    object\n",
      " 3   country       180 non-null    object\n",
      "dtypes: object(4)\n",
      "memory usage: 7.0+ KB\n"
     ]
    }
   ],
   "source": [
    "semi_raw_df.info()"
   ]
  },
  {
   "cell_type": "markdown",
   "metadata": {},
   "source": [
    "# Preparing The Dataframe\n",
    "Extracting features in a suitable form by standardizing content"
   ]
  },
  {
   "cell_type": "code",
   "execution_count": 9,
   "metadata": {},
   "outputs": [
    {
     "data": {
      "text/html": [
       "<div>\n",
       "<style scoped>\n",
       "    .dataframe tbody tr th:only-of-type {\n",
       "        vertical-align: middle;\n",
       "    }\n",
       "\n",
       "    .dataframe tbody tr th {\n",
       "        vertical-align: top;\n",
       "    }\n",
       "\n",
       "    .dataframe thead th {\n",
       "        text-align: right;\n",
       "    }\n",
       "</style>\n",
       "<table border=\"1\" class=\"dataframe\">\n",
       "  <thead>\n",
       "    <tr style=\"text-align: right;\">\n",
       "      <th></th>\n",
       "      <th>country</th>\n",
       "      <th>port_from</th>\n",
       "      <th>port_to</th>\n",
       "      <th>trip_type</th>\n",
       "      <th>price</th>\n",
       "    </tr>\n",
       "  </thead>\n",
       "  <tbody>\n",
       "    <tr>\n",
       "      <th>0</th>\n",
       "      <td>reunion</td>\n",
       "      <td>frederikshavn</td>\n",
       "      <td>liepaja</td>\n",
       "      <td>O</td>\n",
       "      <td>3306</td>\n",
       "    </tr>\n",
       "    <tr>\n",
       "      <th>1</th>\n",
       "      <td>reunion</td>\n",
       "      <td>emden</td>\n",
       "      <td>fos-sur-mer</td>\n",
       "      <td>O</td>\n",
       "      <td>6363</td>\n",
       "    </tr>\n",
       "    <tr>\n",
       "      <th>2</th>\n",
       "      <td>reunion</td>\n",
       "      <td>zeebrugge</td>\n",
       "      <td>bensersiel</td>\n",
       "      <td>O</td>\n",
       "      <td>3666</td>\n",
       "    </tr>\n",
       "    <tr>\n",
       "      <th>3</th>\n",
       "      <td>reunion</td>\n",
       "      <td>emdan</td>\n",
       "      <td>sagunto</td>\n",
       "      <td>O</td>\n",
       "      <td>6166</td>\n",
       "    </tr>\n",
       "    <tr>\n",
       "      <th>4</th>\n",
       "      <td>reunion</td>\n",
       "      <td>emdan</td>\n",
       "      <td>milazzo</td>\n",
       "      <td>O</td>\n",
       "      <td>3161</td>\n",
       "    </tr>\n",
       "  </tbody>\n",
       "</table>\n",
       "</div>"
      ],
      "text/plain": [
       "   country      port_from      port_to trip_type  price\n",
       "0  reunion  frederikshavn      liepaja         O   3306\n",
       "1  reunion          emden  fos-sur-mer         O   6363\n",
       "2  reunion      zeebrugge   bensersiel         O   3666\n",
       "3  reunion          emdan      sagunto         O   6166\n",
       "4  reunion          emdan      milazzo         O   3161"
      ]
     },
     "execution_count": 9,
     "metadata": {},
     "output_type": "execute_result"
    }
   ],
   "source": [
    "for col in semi_raw_df.columns:\n",
    "  semi_raw_df[col] = semi_raw_df[col].str.lower()\n",
    "\n",
    "# Splitting trips\n",
    "semi_raw_df['port_from'] = semi_raw_df['trip']\\\n",
    "  .apply(lambda x: x.split(\"to \")[0].replace(\"from \", \"\").strip())\n",
    "\n",
    "semi_raw_df['port_to'] = semi_raw_df['trip']\\\n",
    "  .apply(lambda x: x.split(\"to \")[1].strip())\n",
    "\n",
    "# Extracting trip type \n",
    "def extract_trip_type(text):\n",
    "  if text.find('one') != -1:\n",
    "    return 'O'\n",
    "  elif text.find('round') != -1:\n",
    "    return 'R'\n",
    "  else:\n",
    "    return 'Unknown'\n",
    "semi_raw_df['trip_type'] = semi_raw_df['price_offer']\\\n",
    "  .apply(extract_trip_type)\n",
    "\n",
    "# Extracting price\n",
    "pattern = r\"\\d+\"\n",
    "# This function extracts the first digit sequence\n",
    "def extract_first_digits(text):\n",
    "  match = re.search(pattern, text)\n",
    "  return match.group(0) if match else None\n",
    "\n",
    "semi_raw_df['price'] = semi_raw_df['price_offer2']\\\n",
    "  .apply(extract_first_digits).astype('int64')\n",
    "\n",
    "\n",
    "aug_sheet = semi_raw_df[['country', 'port_from', 'port_to', 'trip_type', 'price']]\n",
    "\n",
    "aug_sheet.head()"
   ]
  },
  {
   "cell_type": "code",
   "execution_count": 10,
   "metadata": {},
   "outputs": [
    {
     "name": "stdout",
     "output_type": "stream",
     "text": [
      "<class 'pandas.core.frame.DataFrame'>\n",
      "Index: 180 entries, 0 to 17\n",
      "Data columns (total 5 columns):\n",
      " #   Column     Non-Null Count  Dtype \n",
      "---  ------     --------------  ----- \n",
      " 0   country    180 non-null    object\n",
      " 1   port_from  180 non-null    object\n",
      " 2   port_to    180 non-null    object\n",
      " 3   trip_type  180 non-null    object\n",
      " 4   price      180 non-null    int64 \n",
      "dtypes: int64(1), object(4)\n",
      "memory usage: 8.4+ KB\n"
     ]
    }
   ],
   "source": [
    "aug_sheet.info()"
   ]
  },
  {
   "cell_type": "markdown",
   "metadata": {},
   "source": [
    "# Loading & preparing The Backend Files"
   ]
  },
  {
   "cell_type": "code",
   "execution_count": 11,
   "metadata": {},
   "outputs": [
    {
     "data": {
      "text/html": [
       "<div>\n",
       "<style scoped>\n",
       "    .dataframe tbody tr th:only-of-type {\n",
       "        vertical-align: middle;\n",
       "    }\n",
       "\n",
       "    .dataframe tbody tr th {\n",
       "        vertical-align: top;\n",
       "    }\n",
       "\n",
       "    .dataframe thead th {\n",
       "        text-align: right;\n",
       "    }\n",
       "</style>\n",
       "<table border=\"1\" class=\"dataframe\">\n",
       "  <thead>\n",
       "    <tr style=\"text-align: right;\">\n",
       "      <th></th>\n",
       "      <th>country</th>\n",
       "      <th>country_id</th>\n",
       "    </tr>\n",
       "  </thead>\n",
       "  <tbody>\n",
       "    <tr>\n",
       "      <th>0</th>\n",
       "      <td>reunion</td>\n",
       "      <td>100</td>\n",
       "    </tr>\n",
       "    <tr>\n",
       "      <th>1</th>\n",
       "      <td>suriname</td>\n",
       "      <td>40</td>\n",
       "    </tr>\n",
       "    <tr>\n",
       "      <th>2</th>\n",
       "      <td>montenegro</td>\n",
       "      <td>38</td>\n",
       "    </tr>\n",
       "    <tr>\n",
       "      <th>3</th>\n",
       "      <td>cape verde</td>\n",
       "      <td>44</td>\n",
       "    </tr>\n",
       "    <tr>\n",
       "      <th>4</th>\n",
       "      <td>western sahara</td>\n",
       "      <td>62</td>\n",
       "    </tr>\n",
       "  </tbody>\n",
       "</table>\n",
       "</div>"
      ],
      "text/plain": [
       "          country  country_id\n",
       "0         reunion         100\n",
       "1        suriname          40\n",
       "2      montenegro          38\n",
       "3      cape verde          44\n",
       "4  western sahara          62"
      ]
     },
     "execution_count": 11,
     "metadata": {},
     "output_type": "execute_result"
    }
   ],
   "source": [
    "countries_ids = pd.read_excel(r'My port - Copy\\Countries IDs.xlsx')\n",
    "\n",
    "# Standardize content\n",
    "countries_ids.columns = ['country', 'country_id']\n",
    "countries_ids['country'] = countries_ids['country'].apply(lambda x: x.lower())\n",
    "\n",
    "countries_ids.head()"
   ]
  },
  {
   "cell_type": "code",
   "execution_count": 12,
   "metadata": {},
   "outputs": [
    {
     "name": "stdout",
     "output_type": "stream",
     "text": [
      "<class 'pandas.core.frame.DataFrame'>\n",
      "RangeIndex: 71 entries, 0 to 70\n",
      "Data columns (total 2 columns):\n",
      " #   Column      Non-Null Count  Dtype \n",
      "---  ------      --------------  ----- \n",
      " 0   country     71 non-null     object\n",
      " 1   country_id  71 non-null     int64 \n",
      "dtypes: int64(1), object(1)\n",
      "memory usage: 1.2+ KB\n"
     ]
    }
   ],
   "source": [
    "countries_ids.info()"
   ]
  },
  {
   "cell_type": "code",
   "execution_count": 13,
   "metadata": {},
   "outputs": [
    {
     "data": {
      "text/html": [
       "<div>\n",
       "<style scoped>\n",
       "    .dataframe tbody tr th:only-of-type {\n",
       "        vertical-align: middle;\n",
       "    }\n",
       "\n",
       "    .dataframe tbody tr th {\n",
       "        vertical-align: top;\n",
       "    }\n",
       "\n",
       "    .dataframe thead th {\n",
       "        text-align: right;\n",
       "    }\n",
       "</style>\n",
       "<table border=\"1\" class=\"dataframe\">\n",
       "  <thead>\n",
       "    <tr style=\"text-align: right;\">\n",
       "      <th></th>\n",
       "      <th>city</th>\n",
       "      <th>port_name</th>\n",
       "      <th>port_code</th>\n",
       "      <th>port_id</th>\n",
       "    </tr>\n",
       "  </thead>\n",
       "  <tbody>\n",
       "    <tr>\n",
       "      <th>0</th>\n",
       "      <td>guttenberg</td>\n",
       "      <td>a coruña</td>\n",
       "      <td>ogx</td>\n",
       "      <td>870</td>\n",
       "    </tr>\n",
       "    <tr>\n",
       "      <th>1</th>\n",
       "      <td>union city</td>\n",
       "      <td>aalborg</td>\n",
       "      <td>ffo</td>\n",
       "      <td>229</td>\n",
       "    </tr>\n",
       "    <tr>\n",
       "      <th>2</th>\n",
       "      <td>west new york</td>\n",
       "      <td>algeciras</td>\n",
       "      <td>beh</td>\n",
       "      <td>765</td>\n",
       "    </tr>\n",
       "    <tr>\n",
       "      <th>3</th>\n",
       "      <td>hoboken</td>\n",
       "      <td>alicante</td>\n",
       "      <td>zkn</td>\n",
       "      <td>843</td>\n",
       "    </tr>\n",
       "    <tr>\n",
       "      <th>4</th>\n",
       "      <td>guttenberg</td>\n",
       "      <td>qweeeee</td>\n",
       "      <td>ogx</td>\n",
       "      <td>870</td>\n",
       "    </tr>\n",
       "  </tbody>\n",
       "</table>\n",
       "</div>"
      ],
      "text/plain": [
       "            city  port_name port_code  port_id\n",
       "0     guttenberg   a coruña       ogx      870\n",
       "1     union city    aalborg       ffo      229\n",
       "2  west new york  algeciras       beh      765\n",
       "3        hoboken   alicante       zkn      843\n",
       "4     guttenberg    qweeeee       ogx      870"
      ]
     },
     "execution_count": 13,
     "metadata": {},
     "output_type": "execute_result"
    }
   ],
   "source": [
    "port_cities = pd.read_excel(r'My port - Copy\\Ports_ceties_codes_and_IDs.xlsx')\n",
    "\n",
    "# Standardize content\n",
    "port_cities.columns = ['city', 'port_name', 'port_code', 'port_id']\n",
    "for col in ['city', 'port_name', 'port_code']:\n",
    "  port_cities[col] = port_cities[col].apply(lambda x: x.lower())\n",
    "\n",
    "port_cities.head()"
   ]
  },
  {
   "cell_type": "code",
   "execution_count": 14,
   "metadata": {},
   "outputs": [
    {
     "name": "stdout",
     "output_type": "stream",
     "text": [
      "<class 'pandas.core.frame.DataFrame'>\n",
      "RangeIndex: 105 entries, 0 to 104\n",
      "Data columns (total 4 columns):\n",
      " #   Column     Non-Null Count  Dtype \n",
      "---  ------     --------------  ----- \n",
      " 0   city       105 non-null    object\n",
      " 1   port_name  105 non-null    object\n",
      " 2   port_code  105 non-null    object\n",
      " 3   port_id    105 non-null    int64 \n",
      "dtypes: int64(1), object(3)\n",
      "memory usage: 3.4+ KB\n"
     ]
    }
   ],
   "source": [
    "port_cities.info()"
   ]
  },
  {
   "cell_type": "markdown",
   "metadata": {},
   "source": [
    "# Checking for Possible Errors "
   ]
  },
  {
   "cell_type": "markdown",
   "metadata": {},
   "source": [
    "## Checking for duplicates\n"
   ]
  },
  {
   "cell_type": "code",
   "execution_count": 15,
   "metadata": {},
   "outputs": [],
   "source": [
    "# Creating a dictionary for possible duplicates\n",
    "duplicates = {'file_name': [], 'column_name': [], 'duplicates_rows': []}"
   ]
  },
  {
   "cell_type": "markdown",
   "metadata": {},
   "source": [
    "### countries_ids"
   ]
  },
  {
   "cell_type": "code",
   "execution_count": 16,
   "metadata": {},
   "outputs": [
    {
     "name": "stdout",
     "output_type": "stream",
     "text": [
      "country duplicates: 2\n",
      "country_id duplicates: 2\n"
     ]
    }
   ],
   "source": [
    "for col in countries_ids.columns:\n",
    "  errors = countries_ids[countries_ids[col].duplicated(keep= False)]\n",
    "  print(col + \" duplicates: \" + str(len(errors)))\n",
    "  if len(errors) > 0:\n",
    "    duplicates[\"file_name\"].append('Countries IDs')\n",
    "    duplicates[\"column_name\"].append(col)\n",
    "    duplicates[\"duplicates_rows\"].append((errors.index.values) + 2)"
   ]
  },
  {
   "cell_type": "markdown",
   "metadata": {},
   "source": [
    "### port_cities"
   ]
  },
  {
   "cell_type": "code",
   "execution_count": 17,
   "metadata": {},
   "outputs": [
    {
     "name": "stdout",
     "output_type": "stream",
     "text": [
      "port_name duplicates: 4\n",
      "port_code duplicates: 6\n",
      "port_id duplicates: 6\n"
     ]
    }
   ],
   "source": [
    "for col in port_cities.columns:\n",
    "  if col != 'city':\n",
    "    errors = port_cities[port_cities[col].duplicated(keep= False)]\n",
    "    print(col + \" duplicates: \" + str(len(errors)))\n",
    "    if len(errors) > 0:\n",
    "      duplicates[\"file_name\"].append('Ports_ceties_codes_and_IDs')\n",
    "      duplicates[\"column_name\"].append(col)\n",
    "      duplicates[\"duplicates_rows\"].append((errors.index.values) + 2)"
   ]
  },
  {
   "cell_type": "code",
   "execution_count": 18,
   "metadata": {},
   "outputs": [],
   "source": [
    "duplicates_df = pd.DataFrame(duplicates, index=np.arange(len(duplicates['file_name'])))"
   ]
  },
  {
   "cell_type": "markdown",
   "metadata": {},
   "source": [
    "city duplicates were skipped as they aren't considered as errors."
   ]
  },
  {
   "cell_type": "markdown",
   "metadata": {},
   "source": [
    "## Checking for typos"
   ]
  },
  {
   "cell_type": "code",
   "execution_count": 19,
   "metadata": {},
   "outputs": [],
   "source": [
    "# Creating a dictionary for possible typos\n",
    "typos = {'file_name': [], 'column_name': [], 'typos_rows': []}"
   ]
  },
  {
   "cell_type": "markdown",
   "metadata": {},
   "source": [
    "### port_cities sheet"
   ]
  },
  {
   "cell_type": "code",
   "execution_count": 20,
   "metadata": {},
   "outputs": [
    {
     "data": {
      "text/plain": [
       "array([' ogx', 'aov', 'axd', 'beh', 'bse', 'bwm', 'byv', 'bzj', 'cac',\n",
       "       'cli', 'cma', 'cmo', 'cpi', 'ctm', 'cwg', 'dhj', 'dii', 'eak',\n",
       "       'ebu', 'efq', 'ejl', 'elk', 'ffo', 'fhq', 'fmq', 'fwd', 'fzt',\n",
       "       'gbo', 'ggv', 'ghd', 'gol', 'jgt', 'jit', 'jrw', 'jvz', 'kka',\n",
       "       'kln', 'kzf', 'lbe', 'lbh', 'lcy', 'lou', 'mfh', 'miu', 'mix',\n",
       "       'mnb', 'moi', 'mtu', 'ngb', 'nke', 'nmr', 'nsu', 'odk', 'ofl',\n",
       "       'oyh', 'pkg', 'ply', 'pmh', 'ppp', 'prg', 'pwl', 'pwx', 'qam',\n",
       "       'qhw', 'qlx', 'qpx', 'qso', 'qwh', 'qyr', 'rev', 'rfb', 'rnd',\n",
       "       'sdg', 'suv', 'tby', 'tct', 'tpr', 'tsh', 'uzl', 'vco', 'vud',\n",
       "       'wcp', 'wiy', 'wme', 'wqg', 'wrb', 'xhn', 'xjz', 'xya', 'ydd',\n",
       "       'ymj', 'yqa', 'yrj', 'yub', 'ywp', 'zkn', 'zku', 'zpr', 'zwg',\n",
       "       'zwo', 'zzk', 'zzz'], dtype=object)"
      ]
     },
     "execution_count": 20,
     "metadata": {},
     "output_type": "execute_result"
    }
   ],
   "source": [
    "port_cities['port_code'].sort_values().unique()"
   ]
  },
  {
   "cell_type": "code",
   "execution_count": 21,
   "metadata": {},
   "outputs": [],
   "source": [
    "# Removing whitespaces\n",
    "port_cities['port_code'] = port_cities['port_code'].str.strip()"
   ]
  },
  {
   "cell_type": "code",
   "execution_count": 22,
   "metadata": {},
   "outputs": [],
   "source": [
    "# Ports named after cities need to be checked manually\n",
    "port_city_error = port_cities[port_cities['city'] == port_cities['port_name']].sort_values(by='city')\n",
    "if len(port_city_error) > 0:\n",
    "  typos[\"file_name\"].append('Ports_ceties_codes_and_IDs')\n",
    "  typos[\"column_name\"].append('port name = city name ')\n",
    "  typos[\"typos_rows\"].append((port_city_error.index.values) + 2)"
   ]
  },
  {
   "cell_type": "markdown",
   "metadata": {},
   "source": [
    "### countries_ids sheet"
   ]
  },
  {
   "cell_type": "code",
   "execution_count": 23,
   "metadata": {},
   "outputs": [
    {
     "data": {
      "text/plain": [
       "array(['american samoa', 'andorra la vella', 'anguilla',\n",
       "       'antigua and barbuda', 'aruba', 'bahamas', 'barbados', 'belize',\n",
       "       'bermuda', 'bhutan', 'british virgin islands', 'brunei',\n",
       "       'cape verde', 'cayman islands', 'cook islands', 'curacao',\n",
       "       'dominica', 'falkland islands', 'faroe islands', 'fiji',\n",
       "       'french guiana', 'french polynesia', 'gibraltar', 'greenland',\n",
       "       'grenada', 'guadeloupe', 'guam', 'guernsey', 'guyana', 'jersey',\n",
       "       'kiribati', 'macau', 'maldives', 'malta', 'marshall islands',\n",
       "       'martinique', 'mayotte', 'micronesia', 'monaco', 'montenegro',\n",
       "       'montserrat', 'nauru', 'new caledonia', 'niue',\n",
       "       'northern mariana islands', 'palau', 'qwer', 'reunion',\n",
       "       'saint barthelemy', 'saint kitts and nevis', 'saint lucia',\n",
       "       'saint martin', 'saint pierre and miquelon',\n",
       "       'saint vincent and the grenadines', 'samoa', 'san marino',\n",
       "       'sao tome and principe', 'seychelles', 'sint maarten',\n",
       "       'solomon islands', 'suriname', 'tokelau', 'tonga',\n",
       "       'turks and caicos islands', 'tuvalu',\n",
       "       'united states virgin islands', 'vanuatu', 'vatican city',\n",
       "       'wallis and futuna', 'western sahara'], dtype=object)"
      ]
     },
     "execution_count": 23,
     "metadata": {},
     "output_type": "execute_result"
    }
   ],
   "source": [
    "countries_ids['country'].sort_values().unique()"
   ]
  },
  {
   "cell_type": "code",
   "execution_count": 24,
   "metadata": {},
   "outputs": [],
   "source": [
    "if len(typos['file_name']) > 0:\n",
    "  typos_df = pd.DataFrame(typos, index=np.arange(len(typos['file_name'])))"
   ]
  },
  {
   "cell_type": "markdown",
   "metadata": {},
   "source": [
    "### aug_sheet"
   ]
  },
  {
   "cell_type": "code",
   "execution_count": 25,
   "metadata": {},
   "outputs": [],
   "source": [
    "# Creating a dictionary for possible aug_sheet typos\n",
    "aug_sheet_typos = {'sheet_name': [], 'error_type': [], 'typos_seq': []}"
   ]
  },
  {
   "cell_type": "markdown",
   "metadata": {},
   "source": [
    "#### trip_type"
   ]
  },
  {
   "cell_type": "code",
   "execution_count": 26,
   "metadata": {},
   "outputs": [],
   "source": [
    "unknown_trip_types = aug_sheet[aug_sheet['trip_type'] == 'Unknown']\n",
    "if len(unknown_trip_types) > 0:\n",
    "  aug_sheet_typos[\"sheet_name\"].append(unknown_trip_types['country'].values[0])\n",
    "  aug_sheet_typos[\"error_type\"].append('Unknown trip type')\n",
    "  aug_sheet_typos[\"typos_seq\"].append(unknown_trip_types.index.values+1)"
   ]
  },
  {
   "cell_type": "markdown",
   "metadata": {},
   "source": [
    "#### country"
   ]
  },
  {
   "cell_type": "code",
   "execution_count": 27,
   "metadata": {},
   "outputs": [
    {
     "data": {
      "text/plain": [
       "['paramaribo', 'isle of man', 'majuro']"
      ]
     },
     "execution_count": 27,
     "metadata": {},
     "output_type": "execute_result"
    }
   ],
   "source": [
    "# Checking countries errors\n",
    "aug_new_countries = [country for country in aug_sheet['country'].unique()\\\n",
    "                    if country not in countries_ids['country'].unique()] # There are new countries\n",
    "aug_new_countries"
   ]
  },
  {
   "cell_type": "code",
   "execution_count": 28,
   "metadata": {},
   "outputs": [],
   "source": [
    "# Replace capital names with the correct countries\n",
    "aug_sheet['country'].replace({\n",
    "  'paramaribo' : 'suriname',\n",
    "  'majuro' : 'marshall islands'\n",
    "}, inplace= True)"
   ]
  },
  {
   "cell_type": "code",
   "execution_count": 29,
   "metadata": {},
   "outputs": [
    {
     "data": {
      "text/plain": [
       "['isle of man']"
      ]
     },
     "execution_count": 29,
     "metadata": {},
     "output_type": "execute_result"
    }
   ],
   "source": [
    "# Checking countries errors (again)\n",
    "aug_new_countries = [country for country in aug_sheet['country'].unique()\\\n",
    "                    if country not in countries_ids['country'].unique()]\n",
    "aug_new_countries"
   ]
  },
  {
   "cell_type": "code",
   "execution_count": 30,
   "metadata": {},
   "outputs": [],
   "source": [
    "for country in aug_new_countries:\n",
    "  aug_sheet_typos[\"sheet_name\"].append(country)\n",
    "  aug_sheet_typos[\"error_type\"].append('''country name wasn't in countries sheet''')\n",
    "  aug_sheet_typos[\"typos_seq\"].append('None')"
   ]
  },
  {
   "cell_type": "code",
   "execution_count": 31,
   "metadata": {},
   "outputs": [],
   "source": [
    "# Adding new countries to countries_ids sheet\n",
    "if len(aug_new_countries) > 0:\n",
    "  aug_new_countries_df = {'country': [], 'country_id': []}\n",
    "  for i, country in enumerate(aug_new_countries):\n",
    "    aug_new_countries_df['country'].append(country)\n",
    "    aug_new_countries_df['country_id'].append(countries_ids['country_id'].max() + i + 1)\n",
    "\n",
    "  aug_new_countries_df = pd.DataFrame(\n",
    "    aug_new_countries_df,\n",
    "    index= np.arange(len(aug_new_countries))\n",
    "  )\n",
    "\n",
    "  countries_ids = pd.concat([countries_ids, aug_new_countries_df], ignore_index= True)"
   ]
  },
  {
   "cell_type": "code",
   "execution_count": 32,
   "metadata": {},
   "outputs": [
    {
     "data": {
      "text/plain": [
       "array(['american samoa', 'andorra la vella', 'anguilla',\n",
       "       'antigua and barbuda', 'aruba', 'bahamas', 'barbados', 'belize',\n",
       "       'bermuda', 'bhutan', 'british virgin islands', 'brunei',\n",
       "       'cape verde', 'cayman islands', 'cook islands', 'curacao',\n",
       "       'dominica', 'falkland islands', 'faroe islands', 'fiji',\n",
       "       'french guiana', 'french polynesia', 'gibraltar', 'greenland',\n",
       "       'grenada', 'guadeloupe', 'guam', 'guernsey', 'guyana',\n",
       "       'isle of man', 'jersey', 'kiribati', 'macau', 'maldives', 'malta',\n",
       "       'marshall islands', 'martinique', 'mayotte', 'micronesia',\n",
       "       'monaco', 'montenegro', 'montserrat', 'nauru', 'new caledonia',\n",
       "       'niue', 'northern mariana islands', 'palau', 'qwer', 'reunion',\n",
       "       'saint barthelemy', 'saint kitts and nevis', 'saint lucia',\n",
       "       'saint martin', 'saint pierre and miquelon',\n",
       "       'saint vincent and the grenadines', 'samoa', 'san marino',\n",
       "       'sao tome and principe', 'seychelles', 'sint maarten',\n",
       "       'solomon islands', 'suriname', 'tokelau', 'tonga',\n",
       "       'turks and caicos islands', 'tuvalu',\n",
       "       'united states virgin islands', 'vanuatu', 'vatican city',\n",
       "       'wallis and futuna', 'western sahara'], dtype=object)"
      ]
     },
     "execution_count": 32,
     "metadata": {},
     "output_type": "execute_result"
    }
   ],
   "source": [
    "countries_ids['country'].sort_values().unique()"
   ]
  },
  {
   "cell_type": "markdown",
   "metadata": {},
   "source": [
    "#### Port errors"
   ]
  },
  {
   "cell_type": "code",
   "execution_count": 33,
   "metadata": {},
   "outputs": [
    {
     "data": {
      "text/plain": [
       "array(['aalborg', 'alicante', 'antwerpen', 'antwrpen', 'avilés',\n",
       "       'bensersiel', 'berwyn', 'bilbao', 'brake', 'bremen',\n",
       "       'cala sabina (formentera)', 'carboneras', 'cartagena', 'castellón',\n",
       "       'civitavecchia', 'cádiz', 'emdan', 'emden', 'fos-sur-mer',\n",
       "       'frederikshavn', 'frederikshevn', 'frederykshavn', 'friderikshavn',\n",
       "       'frm langeoog', 'helsingør', \"helsingør'\", 'hirtshals', 'kavala',\n",
       "       'københavn', 'langeoog', \"liepa'ja\", 'liepaja', 'lübeck',\n",
       "       'miami beach', 'milazzo', 'motril', 'norddeich', 'nordenham',\n",
       "       'norderney', 'oostende', 'palma de mallorca', 'perth amboy',\n",
       "       'puttgarden', 'sagunto', 'sjaellands odde ferry port',\n",
       "       'thessaloniki', 'union city', 'wilhelmshaven', 'wismar',\n",
       "       'zeebrugg', 'zeebrugge', 'zzzzzzzzzzzzz'], dtype='<U26')"
      ]
     },
     "execution_count": 33,
     "metadata": {},
     "output_type": "execute_result"
    }
   ],
   "source": [
    "aug_sheet_ports = np.unique(aug_sheet['port_from'].tolist() + aug_sheet['port_to'].tolist())\n",
    "aug_sheet_ports"
   ]
  },
  {
   "cell_type": "code",
   "execution_count": 34,
   "metadata": {},
   "outputs": [
    {
     "data": {
      "text/plain": [
       "['antwrpen',\n",
       " 'berwyn',\n",
       " 'emdan',\n",
       " 'frederikshevn',\n",
       " 'frederykshavn',\n",
       " 'friderikshavn',\n",
       " 'frm langeoog',\n",
       " \"helsingør'\",\n",
       " \"liepa'ja\",\n",
       " 'liepaja',\n",
       " 'miami beach',\n",
       " 'perth amboy',\n",
       " 'sjaellands odde ferry port',\n",
       " 'zeebrugg',\n",
       " 'zzzzzzzzzzzzz']"
      ]
     },
     "execution_count": 34,
     "metadata": {},
     "output_type": "execute_result"
    }
   ],
   "source": [
    "aug_new_ports = [port for port in aug_sheet_ports\\\n",
    "                if port not in port_cities['port_name'].unique()]\n",
    "aug_new_ports"
   ]
  },
  {
   "cell_type": "code",
   "execution_count": 35,
   "metadata": {},
   "outputs": [],
   "source": [
    "replacing_dict = {\n",
    "  'antwrpen': 'antwerpen',\n",
    "  'berwyn': 'heltermaa',\n",
    "  'emdan' : 'emden',\n",
    "  'frederikshevn': 'frederikshavn',\n",
    "  'frederykshavn': 'frederikshavn',\n",
    "  'friderikshavn': 'frederikshavn',\n",
    "  'frm langeoog': 'langeoog',\n",
    "  \"helsingør'\": 'helsingør',\n",
    "  \"liepa'ja\": 'liepāja',\n",
    "  'liepaja': 'liepāja',\n",
    "  'miami beach': 'zeebrugge',\n",
    "  'perth amboy': 'oostende',\n",
    "  'sjaellands odde ferry port': 'sjællands odde ferry port',\n",
    "  'union city': 'aalborg',\n",
    "  'zeebrugg': 'zeebrugge'\n",
    "}\n",
    "\n",
    "for col in ['port_from', 'port_to']:\n",
    "  aug_sheet[col].replace(replacing_dict, inplace=True)"
   ]
  },
  {
   "cell_type": "code",
   "execution_count": 36,
   "metadata": {},
   "outputs": [
    {
     "data": {
      "text/plain": [
       "['zzzzzzzzzzzzz']"
      ]
     },
     "execution_count": 36,
     "metadata": {},
     "output_type": "execute_result"
    }
   ],
   "source": [
    "aug_sheet_ports_2 = np.unique(aug_sheet['port_from'].tolist() + aug_sheet['port_to'].tolist())\n",
    "\n",
    "aug_new_ports_2 = [port for port in aug_sheet_ports_2\\\n",
    "                if port not in port_cities['port_name'].unique()]\n",
    "aug_new_ports_2"
   ]
  },
  {
   "cell_type": "code",
   "execution_count": 37,
   "metadata": {},
   "outputs": [
    {
     "data": {
      "text/plain": [
       "52"
      ]
     },
     "execution_count": 37,
     "metadata": {},
     "output_type": "execute_result"
    }
   ],
   "source": [
    "# Before cleaning\n",
    "len(aug_sheet_ports)"
   ]
  },
  {
   "cell_type": "code",
   "execution_count": 38,
   "metadata": {},
   "outputs": [
    {
     "data": {
      "text/plain": [
       "40"
      ]
     },
     "execution_count": 38,
     "metadata": {},
     "output_type": "execute_result"
    }
   ],
   "source": [
    "# After cleaning\n",
    "len(aug_sheet_ports_2)"
   ]
  },
  {
   "cell_type": "code",
   "execution_count": 39,
   "metadata": {},
   "outputs": [],
   "source": [
    "if len(aug_new_ports_2) > 0:\n",
    "  aug_new_ports_df = {'city': [], 'port_name': [], 'port_code': [], 'port_id': []}\n",
    "\n",
    "  # return city for the target port\n",
    "  aug_new_ports_city = [aug_sheet[(aug_sheet['port_from'] == port) | (aug_sheet['port_to'] == port)]\\\n",
    "                          ['country'].values[0] for port in aug_new_ports_2]\n",
    "\n",
    "  # Adding new ports to the main sheet\n",
    "  for i, port in enumerate(aug_new_ports_2):\n",
    "    aug_new_ports_df['city'].append(aug_new_ports_city[i])\n",
    "    aug_new_ports_df['port_name'].append(aug_new_ports_2[i])\n",
    "    aug_new_ports_df['port_code'].append(aug_new_ports_2[i][0:3])\n",
    "    aug_new_ports_df['port_id'].append(port_cities['port_id'].max() + i + 1)\n",
    "\n",
    "  # Adding new ports to errors sheet\n",
    "  for i, port in enumerate(aug_new_ports_2):\n",
    "    target_row = aug_sheet[(aug_sheet['port_from'] == port) | (aug_sheet['port_to'] == port)]\n",
    "    aug_sheet_typos[\"sheet_name\"].append(target_row['country'].values[0])\n",
    "    aug_sheet_typos[\"error_type\"].append('''port name wasn't in ports sheet''')\n",
    "    aug_sheet_typos[\"typos_seq\"].append(target_row.index.values+1)\n",
    "\n",
    "  port_cities = pd.concat([port_cities, pd.DataFrame(aug_new_ports_df)], ignore_index= True)"
   ]
  },
  {
   "cell_type": "code",
   "execution_count": 40,
   "metadata": {},
   "outputs": [],
   "source": [
    "if len(aug_sheet_typos['sheet_name']) > 0:\n",
    "  aug_sheet_typos_df = pd.DataFrame(aug_sheet_typos, index=np.arange(len(aug_sheet_typos['sheet_name'])))"
   ]
  },
  {
   "cell_type": "markdown",
   "metadata": {},
   "source": [
    "# Check cleaning results"
   ]
  },
  {
   "cell_type": "code",
   "execution_count": 41,
   "metadata": {},
   "outputs": [
    {
     "name": "stdout",
     "output_type": "stream",
     "text": [
      "   country      port_from      port_to trip_type  price\n",
      "0  reunion  frederikshavn      liepāja         O   3306\n",
      "1  reunion          emden  fos-sur-mer         O   6363\n",
      " \n",
      "    country  country_id\n",
      "0   reunion         100\n",
      "1  suriname          40\n",
      " \n",
      "         city port_name port_code  port_id\n",
      "0  guttenberg  a coruña       ogx      870\n",
      "1  union city   aalborg       ffo      229\n"
     ]
    }
   ],
   "source": [
    "print(aug_sheet.head(2))\n",
    "print(\" \")\n",
    "print(countries_ids.head(2))\n",
    "print(\" \")\n",
    "print(port_cities.head(2))"
   ]
  },
  {
   "cell_type": "markdown",
   "metadata": {},
   "source": [
    "# Preparing data in the required form"
   ]
  },
  {
   "cell_type": "code",
   "execution_count": 42,
   "metadata": {},
   "outputs": [
    {
     "data": {
      "text/html": [
       "<div>\n",
       "<style scoped>\n",
       "    .dataframe tbody tr th:only-of-type {\n",
       "        vertical-align: middle;\n",
       "    }\n",
       "\n",
       "    .dataframe tbody tr th {\n",
       "        vertical-align: top;\n",
       "    }\n",
       "\n",
       "    .dataframe thead th {\n",
       "        text-align: right;\n",
       "    }\n",
       "</style>\n",
       "<table border=\"1\" class=\"dataframe\">\n",
       "  <thead>\n",
       "    <tr style=\"text-align: right;\">\n",
       "      <th></th>\n",
       "      <th>country</th>\n",
       "      <th>port_from</th>\n",
       "      <th>port_to</th>\n",
       "      <th>trip_type</th>\n",
       "      <th>price</th>\n",
       "      <th>port_from_id</th>\n",
       "      <th>port_to_id</th>\n",
       "      <th>code_from</th>\n",
       "      <th>code_to</th>\n",
       "      <th>url</th>\n",
       "      <th>publish_date</th>\n",
       "      <th>expire_date</th>\n",
       "    </tr>\n",
       "  </thead>\n",
       "  <tbody>\n",
       "    <tr>\n",
       "      <th>0</th>\n",
       "      <td>reunion</td>\n",
       "      <td>frederikshavn</td>\n",
       "      <td>liepāja</td>\n",
       "      <td>O</td>\n",
       "      <td>3306</td>\n",
       "      <td>372</td>\n",
       "      <td>32</td>\n",
       "      <td>cac</td>\n",
       "      <td>zzk</td>\n",
       "      <td>cac-zzk-o</td>\n",
       "      <td>2024-05-03</td>\n",
       "      <td>2024-06-07</td>\n",
       "    </tr>\n",
       "    <tr>\n",
       "      <th>1</th>\n",
       "      <td>reunion</td>\n",
       "      <td>emden</td>\n",
       "      <td>fos-sur-mer</td>\n",
       "      <td>O</td>\n",
       "      <td>6363</td>\n",
       "      <td>572</td>\n",
       "      <td>248</td>\n",
       "      <td>rev</td>\n",
       "      <td>kka</td>\n",
       "      <td>rev-kka-o</td>\n",
       "      <td>2024-05-03</td>\n",
       "      <td>2024-06-07</td>\n",
       "    </tr>\n",
       "    <tr>\n",
       "      <th>2</th>\n",
       "      <td>reunion</td>\n",
       "      <td>zeebrugge</td>\n",
       "      <td>bensersiel</td>\n",
       "      <td>O</td>\n",
       "      <td>3666</td>\n",
       "      <td>903</td>\n",
       "      <td>696</td>\n",
       "      <td>ymj</td>\n",
       "      <td>tby</td>\n",
       "      <td>ymj-tby-o</td>\n",
       "      <td>2024-05-03</td>\n",
       "      <td>2024-06-07</td>\n",
       "    </tr>\n",
       "    <tr>\n",
       "      <th>3</th>\n",
       "      <td>reunion</td>\n",
       "      <td>emden</td>\n",
       "      <td>sagunto</td>\n",
       "      <td>O</td>\n",
       "      <td>6166</td>\n",
       "      <td>572</td>\n",
       "      <td>811</td>\n",
       "      <td>rev</td>\n",
       "      <td>bwm</td>\n",
       "      <td>rev-bwm-o</td>\n",
       "      <td>2024-05-03</td>\n",
       "      <td>2024-06-07</td>\n",
       "    </tr>\n",
       "    <tr>\n",
       "      <th>4</th>\n",
       "      <td>reunion</td>\n",
       "      <td>emden</td>\n",
       "      <td>milazzo</td>\n",
       "      <td>O</td>\n",
       "      <td>3161</td>\n",
       "      <td>572</td>\n",
       "      <td>913</td>\n",
       "      <td>rev</td>\n",
       "      <td>jvz</td>\n",
       "      <td>rev-jvz-o</td>\n",
       "      <td>2024-05-03</td>\n",
       "      <td>2024-06-07</td>\n",
       "    </tr>\n",
       "  </tbody>\n",
       "</table>\n",
       "</div>"
      ],
      "text/plain": [
       "   country      port_from      port_to trip_type  price  port_from_id  \\\n",
       "0  reunion  frederikshavn      liepāja         O   3306           372   \n",
       "1  reunion          emden  fos-sur-mer         O   6363           572   \n",
       "2  reunion      zeebrugge   bensersiel         O   3666           903   \n",
       "3  reunion          emden      sagunto         O   6166           572   \n",
       "4  reunion          emden      milazzo         O   3161           572   \n",
       "\n",
       "   port_to_id code_from code_to        url publish_date expire_date  \n",
       "0          32       cac     zzk  cac-zzk-o   2024-05-03  2024-06-07  \n",
       "1         248       rev     kka  rev-kka-o   2024-05-03  2024-06-07  \n",
       "2         696       ymj     tby  ymj-tby-o   2024-05-03  2024-06-07  \n",
       "3         811       rev     bwm  rev-bwm-o   2024-05-03  2024-06-07  \n",
       "4         913       rev     jvz  rev-jvz-o   2024-05-03  2024-06-07  "
      ]
     },
     "execution_count": 42,
     "metadata": {},
     "output_type": "execute_result"
    }
   ],
   "source": [
    "prep_df = aug_sheet\n",
    "\n",
    "# First two columns\n",
    "prep_df['port_from_id'] = aug_sheet['port_from'].apply(\n",
    "  lambda x: port_cities[port_cities['port_name'] == x ]['port_id'].values[0]\n",
    ")\n",
    "prep_df['port_to_id'] = aug_sheet['port_to'].apply(\n",
    "  lambda x: port_cities[port_cities['port_name'] == x ]['port_id'].values[0]\n",
    ")\n",
    "\n",
    "# port codes\n",
    "prep_df['code_from'] = aug_sheet['port_from'].apply(\n",
    "  lambda x: port_cities[port_cities['port_name'] == x ]['port_code'].values[0]\n",
    ")\n",
    "prep_df['code_to'] = aug_sheet['port_to'].apply(\n",
    "  lambda x: port_cities[port_cities['port_name'] == x ]['port_code'].values[0]\n",
    ")\n",
    "\n",
    "# URL\n",
    "prep_df['url'] = prep_df['code_from'] + '-'\\\n",
    "  + prep_df['code_to'] + '-' + prep_df['trip_type'].str.lower()\n",
    "\n",
    "# dates\n",
    "prep_df['publish_date'] = date.today()\n",
    "prep_df['expire_date'] = date.today() + timedelta(days=35)\n",
    "\n",
    "prep_df.head()"
   ]
  },
  {
   "cell_type": "code",
   "execution_count": 43,
   "metadata": {},
   "outputs": [],
   "source": [
    "def convert_to_arabic(number):\n",
    "  english_to_arabic = {\n",
    "    0: \"٠\",\n",
    "    1: \"١\",\n",
    "    2: \"٢\",\n",
    "    3: \"٣\",\n",
    "    4: \"٤\",\n",
    "    5: \"٥\",\n",
    "    6: \"٦\",\n",
    "    7: \"٧\",\n",
    "    8: \"٨\",\n",
    "    9: \"٩\"\n",
    "  }\n",
    "  arabic_number = \"\"\n",
    "  for digit in str(number):\n",
    "    arabic_number += english_to_arabic[int(digit)]\n",
    "  return arabic_number"
   ]
  },
  {
   "cell_type": "code",
   "execution_count": 44,
   "metadata": {},
   "outputs": [
    {
     "name": "stdout",
     "output_type": "stream",
     "text": [
      "<class 'pandas.core.frame.DataFrame'>\n",
      "Index: 180 entries, 0 to 17\n",
      "Data columns (total 3 columns):\n",
      " #   Column      Non-Null Count  Dtype \n",
      "---  ------      --------------  ----- \n",
      " 0   offer_url   180 non-null    object\n",
      " 1   country_id  180 non-null    int64 \n",
      " 2   price       180 non-null    object\n",
      "dtypes: int64(1), object(2)\n",
      "memory usage: 5.6+ KB\n"
     ]
    }
   ],
   "source": [
    "offer_content = prep_df[['url', 'country' , 'price']]\\\n",
    "  .rename(columns={'url': 'offer_url', 'country': 'country_id'})\n",
    "\n",
    "offer_content['country_id'] = offer_content['country_id'].apply(\n",
    "  lambda x: countries_ids[countries_ids['country'] == x]['country_id'].values[0]\n",
    ")\n",
    "\n",
    "offer_content['price'] = offer_content['price'].apply(\n",
    "  lambda x: f'{{\"en\":\"{x}\",\"ar\":\"{convert_to_arabic(x)}\",\"gr\":\"{x}\",\"it\":\"{x}\",\"cz\":\"{x}\",\"fr\":\"{x}\",\"sk\":\"{x}\"}}'\n",
    ")\n",
    "\n",
    "offer_content.info()"
   ]
  },
  {
   "cell_type": "code",
   "execution_count": 45,
   "metadata": {},
   "outputs": [],
   "source": [
    "offer_content.to_excel('offer_content.xlsx', index=False)"
   ]
  },
  {
   "cell_type": "code",
   "execution_count": 46,
   "metadata": {},
   "outputs": [
    {
     "name": "stdout",
     "output_type": "stream",
     "text": [
      "<class 'pandas.core.frame.DataFrame'>\n",
      "RangeIndex: 54 entries, 0 to 53\n",
      "Data columns (total 6 columns):\n",
      " #   Column        Non-Null Count  Dtype \n",
      "---  ------        --------------  ----- \n",
      " 0   port_from_id  54 non-null     int64 \n",
      " 1   port_to_id    54 non-null     int64 \n",
      " 2   trip_type     54 non-null     object\n",
      " 3   url           54 non-null     object\n",
      " 4   publish_date  54 non-null     object\n",
      " 5   expire_date   54 non-null     object\n",
      "dtypes: int64(2), object(4)\n",
      "memory usage: 2.7+ KB\n"
     ]
    }
   ],
   "source": [
    "offers_template = prep_df[['port_from_id', 'port_to_id', 'trip_type', 'url']].drop_duplicates().reset_index(drop= True)\n",
    "offers_template['publish_date'] = date.today()\n",
    "offers_template['expire_date'] = date.today() + timedelta(days= 35)\n",
    "offers_template.info()"
   ]
  },
  {
   "cell_type": "code",
   "execution_count": 47,
   "metadata": {},
   "outputs": [],
   "source": [
    "offers_template.to_excel('offers_template.xlsx', index=False)"
   ]
  },
  {
   "cell_type": "code",
   "execution_count": 48,
   "metadata": {},
   "outputs": [],
   "source": [
    "# Creating extra file to report new countries, ports errors\n",
    "writer = pd.ExcelWriter('possible_errors.xlsx', engine='xlsxwriter')\n",
    "\n",
    "if len(duplicates_df) > 0:\n",
    "  duplicates_df.to_excel(writer, sheet_name='duplicates',index= False)\n",
    "\n",
    "if len(port_city_error) > 0:\n",
    "  typos_df.to_excel(writer, sheet_name='backend_typos',index= False)\n",
    "\n",
    "if len(aug_sheet_typos['sheet_name']) > 0:\n",
    "  aug_sheet_typos_df.to_excel(writer, sheet_name='target_file_typos',index= False)\n",
    "\n",
    "writer.close()"
   ]
  }
 ],
 "metadata": {
  "kernelspec": {
   "display_name": "Python 3",
   "language": "python",
   "name": "python3"
  },
  "language_info": {
   "codemirror_mode": {
    "name": "ipython",
    "version": 3
   },
   "file_extension": ".py",
   "mimetype": "text/x-python",
   "name": "python",
   "nbconvert_exporter": "python",
   "pygments_lexer": "ipython3",
   "version": "3.12.0"
  }
 },
 "nbformat": 4,
 "nbformat_minor": 2
}
